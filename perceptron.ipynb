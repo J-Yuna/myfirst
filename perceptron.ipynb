{
  "nbformat": 4,
  "nbformat_minor": 0,
  "metadata": {
    "colab": {
      "provenance": [],
      "authorship_tag": "ABX9TyNflysnYAQHaZkaN3QWTrlv",
      "include_colab_link": true
    },
    "kernelspec": {
      "name": "python3",
      "display_name": "Python 3"
    },
    "language_info": {
      "name": "python"
    }
  },
  "cells": [
    {
      "cell_type": "markdown",
      "metadata": {
        "id": "view-in-github",
        "colab_type": "text"
      },
      "source": [
        "<a href=\"https://colab.research.google.com/github/J-Yuna/myfirst/blob/main/perceptron.ipynb\" target=\"_parent\"><img src=\"https://colab.research.google.com/assets/colab-badge.svg\" alt=\"Open In Colab\"/></a>"
      ]
    },
    {
      "cell_type": "markdown",
      "source": [
        "XOR만들기 : MLP사용"
      ],
      "metadata": {
        "id": "tEA5iUtIxdH8"
      }
    },
    {
      "cell_type": "code",
      "execution_count": 1,
      "metadata": {
        "id": "MJ-JYE6pYxEy"
      },
      "outputs": [],
      "source": [
        "def perceptron(x1, x2, w1, w2, theta):\n",
        "  if (w1*x1)+(w2*x2) > theta:\n",
        "    return 1\n",
        "  else:\n",
        "    return 0"
      ]
    },
    {
      "cell_type": "code",
      "source": [
        "def AND(x1, x2):\n",
        "  return perceptron(x1, x2, 0.5, 0.5, 0.7 )"
      ],
      "metadata": {
        "id": "bIS9unIPtJUb"
      },
      "execution_count": 3,
      "outputs": []
    },
    {
      "cell_type": "code",
      "source": [
        "print(AND(0,0))\n",
        "print(AND(0,1))\n",
        "print(AND(1,0))\n",
        "print(AND(1,1))"
      ],
      "metadata": {
        "colab": {
          "base_uri": "https://localhost:8080/"
        },
        "id": "ROqGkDCftW5Z",
        "outputId": "ccdd4e21-2068-4cbd-8f77-6dccc93e394d"
      },
      "execution_count": 4,
      "outputs": [
        {
          "output_type": "stream",
          "name": "stdout",
          "text": [
            "0\n",
            "0\n",
            "0\n",
            "1\n"
          ]
        }
      ]
    },
    {
      "cell_type": "code",
      "source": [
        "def OR(x1, x2):\n",
        "  return perceptron(x1, x2, 0.5, 0.5, 0.3)"
      ],
      "metadata": {
        "id": "d5-_T7Y3tvbL"
      },
      "execution_count": 6,
      "outputs": []
    },
    {
      "cell_type": "code",
      "source": [
        "print(OR(0,0))\n",
        "print(OR(0,1))\n",
        "print(OR(1,0))\n",
        "print(OR(1,1))"
      ],
      "metadata": {
        "colab": {
          "base_uri": "https://localhost:8080/"
        },
        "id": "7ZZtO9sQt3RU",
        "outputId": "bf7fef50-aa6b-479e-9f3b-0e1150273e86"
      },
      "execution_count": 7,
      "outputs": [
        {
          "output_type": "stream",
          "name": "stdout",
          "text": [
            "0\n",
            "1\n",
            "1\n",
            "1\n"
          ]
        }
      ]
    },
    {
      "cell_type": "code",
      "source": [
        "def nand(x1, x2):\n",
        "  return perceptron(x1, x2, -0.5, -0.5,-0.7)"
      ],
      "metadata": {
        "id": "QC5kYiE4w0wm"
      },
      "execution_count": 8,
      "outputs": []
    },
    {
      "cell_type": "code",
      "source": [
        "def xor(x1, x2):\n",
        "  s1 = nand(x1,x2)\n",
        "  s2 = OR(x1,x2)\n",
        "  result = AND(s1,s2)\n",
        "  return result"
      ],
      "metadata": {
        "id": "in8KB56DvJBh"
      },
      "execution_count": 11,
      "outputs": []
    },
    {
      "cell_type": "code",
      "source": [
        "print(xor(1,0))\n",
        "print(xor(1,1))"
      ],
      "metadata": {
        "colab": {
          "base_uri": "https://localhost:8080/"
        },
        "id": "GB1aGjUhxTcZ",
        "outputId": "e7c9b9b1-1ab4-4d66-dbf6-1c8cc1c963dd"
      },
      "execution_count": 12,
      "outputs": [
        {
          "output_type": "stream",
          "name": "stdout",
          "text": [
            "1\n",
            "0\n"
          ]
        }
      ]
    },
    {
      "cell_type": "markdown",
      "source": [
        "퍼셉트론 예시"
      ],
      "metadata": {
        "id": "jHOSUSYRxofW"
      }
    },
    {
      "cell_type": "markdown",
      "source": [
        "Mnist 데이터 셋을 활용한 다층신경망 예제1\n",
        ":사람의 필기체로 0~9의 숫자를 표현한 6만개의 데이터셋\n",
        "- 각 숫자는 28*28의 배열로 저장\n",
        "- 그중 하나의 값만, 두개의 은닉층을 생성하여 계산"
      ],
      "metadata": {
        "id": "SJSIZmE6yFp4"
      }
    },
    {
      "cell_type": "code",
      "source": [],
      "metadata": {
        "id": "5tdFzjxvxsD_"
      },
      "execution_count": null,
      "outputs": []
    }
  ]
}