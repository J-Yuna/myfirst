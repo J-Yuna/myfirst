{
  "nbformat": 4,
  "nbformat_minor": 0,
  "metadata": {
    "colab": {
      "provenance": [],
      "authorship_tag": "ABX9TyOqnmTtIRb79sw8Q08aV5VH",
      "include_colab_link": true
    },
    "kernelspec": {
      "name": "python3",
      "display_name": "Python 3"
    },
    "language_info": {
      "name": "python"
    }
  },
  "cells": [
    {
      "cell_type": "markdown",
      "metadata": {
        "id": "view-in-github",
        "colab_type": "text"
      },
      "source": [
        "<a href=\"https://colab.research.google.com/github/J-Yuna/myfirst/blob/main/perceptron.ipynb\" target=\"_parent\"><img src=\"https://colab.research.google.com/assets/colab-badge.svg\" alt=\"Open In Colab\"/></a>"
      ]
    },
    {
      "cell_type": "markdown",
      "source": [
        "XOR만들기 : MLP사용"
      ],
      "metadata": {
        "id": "tEA5iUtIxdH8"
      }
    },
    {
      "cell_type": "code",
      "execution_count": null,
      "metadata": {
        "id": "MJ-JYE6pYxEy"
      },
      "outputs": [],
      "source": [
        "def perceptron(x1, x2, w1, w2, theta):\n",
        "  if (w1*x1)+(w2*x2) > theta:\n",
        "    return 1\n",
        "  else:\n",
        "    return 0"
      ]
    },
    {
      "cell_type": "code",
      "source": [
        "def AND(x1, x2):\n",
        "  return perceptron(x1, x2, 0.5, 0.5, 0.7 )"
      ],
      "metadata": {
        "id": "bIS9unIPtJUb"
      },
      "execution_count": null,
      "outputs": []
    },
    {
      "cell_type": "code",
      "source": [
        "print(AND(0,0))\n",
        "print(AND(0,1))\n",
        "print(AND(1,0))\n",
        "print(AND(1,1))"
      ],
      "metadata": {
        "colab": {
          "base_uri": "https://localhost:8080/"
        },
        "id": "ROqGkDCftW5Z",
        "outputId": "ccdd4e21-2068-4cbd-8f77-6dccc93e394d"
      },
      "execution_count": null,
      "outputs": [
        {
          "output_type": "stream",
          "name": "stdout",
          "text": [
            "0\n",
            "0\n",
            "0\n",
            "1\n"
          ]
        }
      ]
    },
    {
      "cell_type": "code",
      "source": [
        "def OR(x1, x2):\n",
        "  return perceptron(x1, x2, 0.5, 0.5, 0.3)"
      ],
      "metadata": {
        "id": "d5-_T7Y3tvbL"
      },
      "execution_count": null,
      "outputs": []
    },
    {
      "cell_type": "code",
      "source": [
        "print(OR(0,0))\n",
        "print(OR(0,1))\n",
        "print(OR(1,0))\n",
        "print(OR(1,1))"
      ],
      "metadata": {
        "colab": {
          "base_uri": "https://localhost:8080/"
        },
        "id": "7ZZtO9sQt3RU",
        "outputId": "bf7fef50-aa6b-479e-9f3b-0e1150273e86"
      },
      "execution_count": null,
      "outputs": [
        {
          "output_type": "stream",
          "name": "stdout",
          "text": [
            "0\n",
            "1\n",
            "1\n",
            "1\n"
          ]
        }
      ]
    },
    {
      "cell_type": "code",
      "source": [
        "def nand(x1, x2):\n",
        "  return perceptron(x1, x2, -0.5, -0.5,-0.7)"
      ],
      "metadata": {
        "id": "QC5kYiE4w0wm"
      },
      "execution_count": null,
      "outputs": []
    },
    {
      "cell_type": "code",
      "source": [
        "def xor(x1, x2):\n",
        "  s1 = nand(x1,x2)\n",
        "  s2 = OR(x1,x2)\n",
        "  result = AND(s1,s2)\n",
        "  return result"
      ],
      "metadata": {
        "id": "in8KB56DvJBh"
      },
      "execution_count": null,
      "outputs": []
    },
    {
      "cell_type": "code",
      "source": [
        "print(xor(1,0))\n",
        "print(xor(1,1))"
      ],
      "metadata": {
        "colab": {
          "base_uri": "https://localhost:8080/"
        },
        "id": "GB1aGjUhxTcZ",
        "outputId": "e7c9b9b1-1ab4-4d66-dbf6-1c8cc1c963dd"
      },
      "execution_count": null,
      "outputs": [
        {
          "output_type": "stream",
          "name": "stdout",
          "text": [
            "1\n",
            "0\n"
          ]
        }
      ]
    },
    {
      "cell_type": "markdown",
      "source": [
        "퍼셉트론 예시"
      ],
      "metadata": {
        "id": "jHOSUSYRxofW"
      }
    },
    {
      "cell_type": "markdown",
      "source": [
        "Mnist 데이터 셋을 활용한 다층신경망 예제1\n",
        ":사람의 필기체로 0~9의 숫자를 표현한 6만개의 데이터셋\n",
        "- 각 숫자는 28*28의 배열로 저장\n",
        "- 60000개의 훈련데이터, 레이블(X,x)\n",
        "- 10000개의 테스트 데이터, 레이블(X,y)\n"
      ],
      "metadata": {
        "id": "SJSIZmE6yFp4"
      }
    },
    {
      "cell_type": "markdown",
      "source": [
        "보통 cnn에서 많이 사용하던데.. 퍼셉트론을 익히기위해 한번 따라 써봤다!\n",
        "(내 블로그 아래 출처중 하나의 블로그글 따라함) "
      ],
      "metadata": {
        "id": "sMkDRFj9Qbl2"
      }
    },
    {
      "cell_type": "code",
      "source": [
        "import numpy as np\n",
        "\n",
        "#시그모이드 함수수\n",
        "def sigmoid(x):\n",
        "  return 1/(1+ np.exp(-x))\n",
        "\n",
        "#소프트맥스 함수\n",
        "def softmax(z):\n",
        "  max_z = np.max(z)\n",
        "  exp_z = np.exp(z-max_z)\n",
        "  sum_exp_z = np.sum(exp_z)\n",
        "  y = exp_z / sum_exp_z\n",
        "  return y"
      ],
      "metadata": {
        "id": "5tdFzjxvxsD_"
      },
      "execution_count": 23,
      "outputs": []
    },
    {
      "cell_type": "code",
      "source": [
        "pip install Pillow"
      ],
      "metadata": {
        "colab": {
          "base_uri": "https://localhost:8080/"
        },
        "id": "qiXkngsBFTlm",
        "outputId": "04ab3d01-7ca4-49ae-8cca-973c254f02b9"
      },
      "execution_count": 24,
      "outputs": [
        {
          "output_type": "stream",
          "name": "stdout",
          "text": [
            "Looking in indexes: https://pypi.org/simple, https://us-python.pkg.dev/colab-wheels/public/simple/\n",
            "Requirement already satisfied: Pillow in /usr/local/lib/python3.8/dist-packages (7.1.2)\n"
          ]
        }
      ]
    },
    {
      "cell_type": "code",
      "source": [
        "#데이터 가져오기 - keras API를 이용해 데이터셋 다운로드\n",
        "from tensorflow.keras.datasets import mnist\n",
        "from PIL import Image\n",
        "(x_train, y_train), (x_test, y_test) = mnist.load_data()\n",
        "image = Image.fromarray(x_train[0])\n",
        "display(image)"
      ],
      "metadata": {
        "colab": {
          "base_uri": "https://localhost:8080/",
          "height": 45
        },
        "id": "W9STP9BL8jM_",
        "outputId": "65a4fdb4-9c25-4eb3-b884-56c9c9244edf"
      },
      "execution_count": 25,
      "outputs": [
        {
          "output_type": "display_data",
          "data": {
            "text/plain": [
              "<PIL.Image.Image image mode=L size=28x28 at 0x7F4DC1454DF0>"
            ],
            "image/png": "[encoded data removed]"
          },
          "metadata": {}
        }
      ]
    },
    {
      "cell_type": "code",
      "source": [
        "#2차원 데이터 x_train[0]을 1차원으로 만들기(데이터 하나만 뽑아서 1차원으로 변환환)\n",
        "data = x_train[0].flatten()\n",
        "print(data.ndim)\n",
        "print(data.shape)\n",
        "print(y_train[0])"
      ],
      "metadata": {
        "colab": {
          "base_uri": "https://localhost:8080/"
        },
        "id": "BV6QKlHeIH80",
        "outputId": "b1965cc3-2ce9-4336-bb20-fd2ba22bdffd"
      },
      "execution_count": 26,
      "outputs": [
        {
          "output_type": "stream",
          "name": "stdout",
          "text": [
            "1\n",
            "(784,)\n",
            "5\n"
          ]
        }
      ]
    },
    {
      "cell_type": "code",
      "source": [
        "#NN코드 - 2개의 은닉층에서 시그모이드 함수를 거쳐 출력츠에서 소프트맥스로 출력력\n",
        "def mynet(x):\n",
        "  print('x:',x.shape)\n",
        "  #은닉층1 : 입력값이 x : 1*784형태\n",
        "  w1 = np.random.rand(784, 50) #뒤에 50은 뉴런개수(임의로 지정정)\n",
        "  b1 = np.random.rand(50)\n",
        "  print('w1:',w1.shape)\n",
        "  a1 = np.dot(x, w1) + b1  #x*w1 + b1 형태태\n",
        "  print('a1:',a1.shape)\n",
        "  z1 = sigmoid(a1)\n",
        "  print('z1:',z1.shape)\n",
        "  #은닉층2 : 입력값이 z1 : 1*50형태\n",
        "  w2 = np.random.rand(50, 100)\n",
        "  b2 = np.random.rand(100)\n",
        "  print('w2:',w2.shape)\n",
        "  a2 = np.dot(z1,w2) + b2\n",
        "  print('a2:',a2.shape)\n",
        "  z2 = sigmoid(a2)\n",
        "  print('z2:',z2.shape) \n",
        "  #출력층 : 입력값이 z2 : 1*100형태\n",
        "  w3 = np.random.rand(100, 10)   #결과는 0~9까지중 하나기때문에 10개 생성\n",
        "  b3 = np.random.rand(10)\n",
        "  print('w3:',w3.shape)\n",
        "  a3 = np.dot(z2, w3) + b3\n",
        "  print('a3:',a3.shape)\n",
        "  y = softmax(a3)\n",
        "  print('y:',y.shape)\n",
        "\n",
        "  return y"
      ],
      "metadata": {
        "id": "gJdp3KFTInYc"
      },
      "execution_count": 27,
      "outputs": []
    },
    {
      "cell_type": "code",
      "source": [
        "result = mynet(data)\n",
        "print(result)\n",
        "print(np.argmax(result))"
      ],
      "metadata": {
        "colab": {
          "base_uri": "https://localhost:8080/"
        },
        "id": "F6rnWvxVMtLL",
        "outputId": "e0909368-f272-418f-e394-d4669566bb4b"
      },
      "execution_count": 28,
      "outputs": [
        {
          "output_type": "stream",
          "name": "stdout",
          "text": [
            "x: (784,)\n",
            "w1: (784, 50)\n",
            "a1: (50,)\n",
            "z1: (50,)\n",
            "w2: (50, 100)\n",
            "a2: (100,)\n",
            "z2: (100,)\n",
            "w3: (100, 10)\n",
            "a3: (10,)\n",
            "y: (10,)\n",
            "[2.25149662e-01 2.37986663e-04 5.19482761e-03 1.52098674e-02\n",
            " 2.33765179e-02 1.18865797e-02 1.83560083e-04 7.03800532e-01\n",
            " 1.20797347e-03 1.37524932e-02]\n",
            "7\n"
          ]
        }
      ]
    },
    {
      "cell_type": "markdown",
      "source": [
        "5라는 숫자를 7로 판정..! w값을 수정해나가야한다 "
      ],
      "metadata": {
        "id": "jmeQGG2CNU-5"
      }
    },
    {
      "cell_type": "markdown",
      "source": [
        "**신경망 코드2**\n",
        "\n",
        "6만개 데이터를 전부 돌려보기\n",
        "랜덤 값을 고정 시키기 위해 w와 b값을 밖으로 빼어 저장\n",
        "\n"
      ],
      "metadata": {
        "id": "ZYXSKoz5NhPD"
      }
    },
    {
      "cell_type": "code",
      "source": [
        "w1 = np.random.rand(784, 50)\n",
        "b1 = np.random.rand(50)\n",
        "w2 = np.random.rand(50, 100)\n",
        "b2 = np.random.rand(100)\n",
        "w3 = np.random.rand(100,10)\n",
        "b3 = np.random.rand(10)\n",
        "\n",
        "def mynet2(x):\n",
        "  #은닉층1\n",
        "  a1 = np.dot(x, w1) + b1\n",
        "  z1 = sigmoid(a1)\n",
        "  #은닉층2\n",
        "  a2 = np.dot(z1, w2) + b2\n",
        "  z2 = sigmoid(a2)\n",
        "  #출력층\n",
        "  a3 = np.dot(z2, w3) + b3\n",
        "  y = softmax(a3)\n",
        "\n",
        "  return y"
      ],
      "metadata": {
        "id": "wB0KaoqUNaYi"
      },
      "execution_count": 29,
      "outputs": []
    },
    {
      "cell_type": "code",
      "source": [
        "acc = 0\n",
        "for i in range(len(x_test)):\n",
        "  y = mynet2(x_test[i].flatten())\n",
        "  answer = np.argmax(y)\n",
        "  if answer == y_test[i]:\n",
        "    acc += 1\n",
        "print('정확도:',acc / len(y_test))"
      ],
      "metadata": {
        "colab": {
          "base_uri": "https://localhost:8080/"
        },
        "id": "gJrcOdELP7Mv",
        "outputId": "f44b3af6-59ba-4024-c7a9-bc69c0219da3"
      },
      "execution_count": 30,
      "outputs": [
        {
          "output_type": "stream",
          "name": "stdout",
          "text": [
            "정확도: 0.0892\n"
          ]
        }
      ]
    }
  ]
}